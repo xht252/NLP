{
 "cells": [
  {
   "cell_type": "code",
   "execution_count": 1,
   "metadata": {
    "collapsed": true
   },
   "outputs": [],
   "source": [
    "import os\n",
    "import json\n",
    "import jieba\n",
    "\n",
    "import numpy as np"
   ]
  },
  {
   "cell_type": "code",
   "execution_count": 2,
   "outputs": [
    {
     "name": "stderr",
     "output_type": "stream",
     "text": [
      "Building prefix dict from the default dictionary ...\n",
      "Loading model from cache C:\\Users\\xht\\AppData\\Local\\Temp\\jieba.cache\n"
     ]
    },
    {
     "name": "stdout",
     "output_type": "stream",
     "text": [
      "0\n"
     ]
    },
    {
     "name": "stderr",
     "output_type": "stream",
     "text": [
      "Loading model cost 0.554 seconds.\n",
      "Prefix dict has been built successfully.\n"
     ]
    },
    {
     "name": "stdout",
     "output_type": "stream",
     "text": [
      "1\n",
      "2\n",
      "3\n",
      "4\n",
      "5\n"
     ]
    }
   ],
   "source": [
    "path = './text'\n",
    "# ch = [chr(ord('a') + i) for i in range(26)]\n",
    "# ch1 = [chr(ord('A') + i) for i in range(26)]\n",
    "# ch2 = [chr(ord('0') + i) for i in range(10)]\n",
    "# ch3 = [',', '-', '.', '、', '_', '\"\"', '，', '(', '和', '=\"\"', '\"', ':', '/', \"'\", '=', ')', '&', '|', '。']\n",
    "\n",
    "stop = []\n",
    "\n",
    "with open('stopwords.txt' , 'r' , encoding='utf8') as f:\n",
    "    for i in f.readlines():\n",
    "        stop.append(i.replace('\\n' , ''))\n",
    "    f.close()\n",
    "\n",
    "text = set()\n",
    "\n",
    "for idx , i in enumerate(os.listdir('./wiki_zh')):\n",
    "    print(idx)\n",
    "    if idx >= 5:\n",
    "        break\n",
    "    path = './wiki_zh/' + i\n",
    "    for j in os.listdir(path):\n",
    "        with open(path + '/' + j , 'r' , encoding='utf8') as f:\n",
    "            for s in f.readlines():\n",
    "                d = json.loads(s)\n",
    "                t = d['text'].replace('\\n' , '')\n",
    "                for s in stop:\n",
    "                    t.replace(s , '')\n",
    "                for word in jieba.cut(t):\n",
    "                    # print(word)\n",
    "                    text.add(word)\n",
    "\n",
    "            f.close()\n",
    "\n",
    "with open('./text/text.txt' , 'a' , encoding='utf-8') as f:\n",
    "    for i in text:\n",
    "        f.write(i + ' ')\n",
    "    f.close()"
   ],
   "metadata": {
    "collapsed": false
   }
  },
  {
   "cell_type": "code",
   "execution_count": 5,
   "outputs": [],
   "source": [
    "from gensim.models import Word2Vec\n",
    "from gensim.models.word2vec import LineSentence\n",
    "\n",
    "model = Word2Vec(\n",
    "    LineSentence(open('./text/text.txt', 'r', encoding='utf8')),\n",
    "    sg = 0, # sg=1是skip-gram算法，对低频词敏感；默认sg=0为CBOW算法\n",
    "    # size = 100, # size是输出词向量的维数\n",
    "    window = 3, # window是句子中当前词与目标词之间的最大距离\n",
    "    min_count = 1 # min_count是对词进行过滤\n",
    ")\n",
    "\n",
    "# 词向量保存\n",
    "model.wv.save_word2vec_format('data.vector', binary=False)\n",
    "\n",
    "# 模型保存\n",
    "model.save('./text/test.model')"
   ],
   "metadata": {
    "collapsed": false
   }
  },
  {
   "cell_type": "code",
   "execution_count": 6,
   "outputs": [
    {
     "data": {
      "text/plain": "<gensim.models.word2vec.Word2Vec at 0x2dab029d2d0>"
     },
     "execution_count": 6,
     "metadata": {},
     "output_type": "execute_result"
    }
   ],
   "source": [
    "model"
   ],
   "metadata": {
    "collapsed": false
   }
  },
  {
   "cell_type": "code",
   "execution_count": 7,
   "outputs": [],
   "source": [
    "import gensim\n",
    "vector = gensim.models.KeyedVectors.load_word2vec_format('data.vector')"
   ],
   "metadata": {
    "collapsed": false
   }
  },
  {
   "cell_type": "code",
   "execution_count": 8,
   "outputs": [],
   "source": [
    "dic = model.wv.index_to_key"
   ],
   "metadata": {
    "collapsed": false
   }
  },
  {
   "cell_type": "code",
   "execution_count": 9,
   "outputs": [
    {
     "name": "stderr",
     "output_type": "stream",
     "text": [
      "IOPub data rate exceeded.\n",
      "The notebook server will temporarily stop sending output\n",
      "to the client in order to avoid crashing it.\n",
      "To change this limit, set the config variable\n",
      "`--NotebookApp.iopub_data_rate_limit`.\n",
      "\n",
      "Current values:\n",
      "NotebookApp.iopub_data_rate_limit=1000000.0 (bytes/sec)\n",
      "NotebookApp.rate_limit_window=3.0 (secs)\n",
      "\n"
     ]
    }
   ],
   "source": [
    "print(dic)\n",
    "print(type(vector['米']))"
   ],
   "metadata": {
    "collapsed": false
   }
  },
  {
   "cell_type": "code",
   "execution_count": 19,
   "outputs": [],
   "source": [
    "from sklearn.decomposition import PCA\n",
    "import numpy as np\n",
    "\n",
    "pca = PCA(n_components=2)\n",
    "d = {}\n",
    "for idx , i in enumerate(dic):\n",
    "    if idx <= 50:\n",
    "        continue\n",
    "    if idx >= 100:\n",
    "        break\n",
    "    if len(i) >= 3 and len(i) <= 1:\n",
    "        continue\n",
    "    x = vector[i].reshape((2 , 50))\n",
    "    x = pca.fit_transform(x)\n",
    "    # xx = np.average(np.max(x , axis=1))\n",
    "    # yy = np.average(np.max(x , axis=0))\n",
    "    d[i] = x[0]"
   ],
   "metadata": {
    "collapsed": false
   }
  },
  {
   "cell_type": "code",
   "execution_count": 22,
   "outputs": [
    {
     "name": "stdout",
     "output_type": "stream",
     "text": [
      "{'布鲁是': 0, '饮毕': 1, '袭镇': 2, 'Middlebourne': 3, '克肖德': 4, '酷旱': 5, '小提示': 6, '圆桌会议': 7, 'DiDaDi': 8, '乔一琦': 9, '☆': 10, '命康义诚': 11, '44724': 12, '数来': 13, '金盈': 14, '余场': 15, '二维码': 16, 'Hilara': 17, 'MIYAKO': 18, '朱士烈': 19, 'ErbB2': 20, '属泉类': 21, 'Maisie': 22, '牛金引': 23, '有齐': 24, '宽法': 25, '125IN': 26, '拜帖': 27, '刘德旺': 28, '平知章': 29, '生阿努': 30, 'D10': 31, '经向外': 32, '白带': 33, 'MSIN': 34, '塑胶管': 35, '记为': 36, '三密': 37, '乐倍': 38, '遵外': 39, 'ElGamal': 40, '计而': 41, '序例': 42, '时和式': 43, '施岗站': 44, '唇脂': 45, '郑桓公在': 46, '箴铭类': 47, '若以': 48}\n"
     ]
    },
    {
     "data": {
      "text/plain": "<Figure size 640x480 with 1 Axes>",
      "image/png": "[encoded data removed]"
     },
     "metadata": {},
     "output_type": "display_data"
    }
   ],
   "source": [
    "import numpy as np\n",
    "import matplotlib.pyplot as plt\n",
    "\n",
    "fig , ax = plt.subplots()\n",
    "word = {}\n",
    "stop = []\n",
    "with open('stopwords.txt' , 'r' , encoding='utf8') as f:\n",
    "    for i in f.readlines():\n",
    "        stop.append(i)\n",
    "\n",
    "for i , (txt , pos) in enumerate(d.items()):\n",
    "    word[txt] = i\n",
    "    if pos[0] < 0:\n",
    "        continue\n",
    "    ax.scatter(pos[0] , pos[1] , c='r')\n",
    "    ax.annotate(i , xy=(pos[0] , pos[1]))\n",
    "print(word)"
   ],
   "metadata": {
    "collapsed": false
   }
  },
  {
   "cell_type": "code",
   "execution_count": null,
   "outputs": [],
   "source": [],
   "metadata": {
    "collapsed": false
   }
  }
 ],
 "metadata": {
  "kernelspec": {
   "display_name": "Python 3",
   "language": "python",
   "name": "python3"
  },
  "language_info": {
   "codemirror_mode": {
    "name": "ipython",
    "version": 2
   },
   "file_extension": ".py",
   "mimetype": "text/x-python",
   "name": "python",
   "nbconvert_exporter": "python",
   "pygments_lexer": "ipython2",
   "version": "2.7.6"
  }
 },
 "nbformat": 4,
 "nbformat_minor": 0
}
