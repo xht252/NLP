{
 "cells": [
  {
   "cell_type": "code",
   "execution_count": 1,
   "metadata": {
    "collapsed": false
   },
   "outputs": [
    {
     "name": "stderr",
     "output_type": "stream",
     "text": [
      "/opt/conda/envs/python35-paddle120-env/lib/python3.7/site-packages/paddle/fluid/layers/utils.py:26: DeprecationWarning: `np.int` is a deprecated alias for the builtin `int`. To silence this warning, use `int` by itself. Doing this will not modify any behavior and is safe. When replacing `np.int`, you may wish to use e.g. `np.int64` or `np.int32` to specify the precision. If you wish to review your current use, check the release note link for additional information.\n",
      "Deprecated in NumPy 1.20; for more details and guidance: https://numpy.org/devdocs/release/1.20.0-notes.html#deprecations\n",
      "  def convert_to_list(value, n, name, dtype=np.int):\n",
      "/opt/conda/envs/python35-paddle120-env/lib/python3.7/site-packages/matplotlib/__init__.py:107: DeprecationWarning: Using or importing the ABCs from 'collections' instead of from 'collections.abc' is deprecated, and in 3.8 it will stop working\n",
      "  from collections import MutableMapping\n",
      "/opt/conda/envs/python35-paddle120-env/lib/python3.7/site-packages/matplotlib/rcsetup.py:20: DeprecationWarning: Using or importing the ABCs from 'collections' instead of from 'collections.abc' is deprecated, and in 3.8 it will stop working\n",
      "  from collections import Iterable, Mapping\n",
      "/opt/conda/envs/python35-paddle120-env/lib/python3.7/site-packages/matplotlib/colors.py:53: DeprecationWarning: Using or importing the ABCs from 'collections' instead of from 'collections.abc' is deprecated, and in 3.8 it will stop working\n",
      "  from collections import Sized\n"
     ]
    },
    {
     "name": "stdout",
     "output_type": "stream",
     "text": [
      "2.0.2\n"
     ]
    }
   ],
   "source": [
    "import paddle\n",
    "import numpy as np\n",
    "import matplotlib.pyplot as plt\n",
    "import paddle.nn as nn\n",
    "import os\n",
    "import random\n",
    "import numpy as np\n",
    "\n",
    "print(paddle.__version__)  # 查看当前版本"
   ]
  },
  {
   "cell_type": "code",
   "execution_count": 2,
   "metadata": {
    "collapsed": false
   },
   "outputs": [],
   "source": [
    "! unzip -oq /home/aistudio/data/data78806/语句分类.zip"
   ]
  },
  {
   "cell_type": "code",
   "execution_count": 3,
   "metadata": {
    "collapsed": false
   },
   "outputs": [
    {
     "name": "stdout",
     "output_type": "stream",
     "text": [
      "['1 ', ' are wtf ... awww thanks !\\n']\n",
      "1\n",
      "['', 'are', 'wtf', '...', 'awww', 'thanks', '!']\n"
     ]
    }
   ],
   "source": [
    "data = open('语句分类/training_label.txt')\n",
    "for i in data:\n",
    "    print(i.split('+++$+++'))\n",
    "    print(i.split(' ')[0])\n",
    "    print(i.split('+++$+++')[-1].replace('\\n', '').split(' '))\n",
    "    break"
   ]
  },
  {
   "cell_type": "code",
   "execution_count": 4,
   "metadata": {
    "collapsed": false
   },
   "outputs": [
    {
     "name": "stdout",
     "output_type": "stream",
     "text": [
      "正在读取数据……\n",
      "语句分类/training_label.txt数据读取完毕\n",
      "语句分类/training_nolabel.txt数据读取完毕\n",
      "语句分类/testing_data.txt数据读取完毕\n",
      "正在生产字典……\n",
      "数据字典生成完成！\n",
      "字典长度为：245076\n"
     ]
    }
   ],
   "source": [
    "def open_label(data_path):  # 打开文件并读取数据\n",
    "    '''\n",
    "    这里数据读取适合与‘label’和‘nolabel’，因为data文件数据是标签 + 文本 读取出来的数据不正确\n",
    "    '''\n",
    "    dict_set = set()  # 新建一个集合（内容不可重复）\n",
    "    with open(data_path, 'r', encoding='utf-8') as f:  # 读取数据到f\n",
    "        for line in f.readlines():  # 逐行获取f的内容\n",
    "            # print(1)\n",
    "            title = line.split('+++$+++')[-1].replace('\\n', '').split(' ')  # 此处效果查看上一个code\n",
    "            for s in title[1:]:  # 循环内容\n",
    "                dict_set.add(s)  # 数据存入集合\n",
    "    # print(dict_set)\n",
    "    print(f'{data_path}数据读取完毕')\n",
    "    return dict_set\n",
    "\n",
    "def open_data(data_path):  # 打开文件并读取数据\n",
    "    dict_set = set()  # 新建一个集合（内容不可重复）\n",
    "    with open(data_path, 'r', encoding='utf-8') as f:  # 读取数据到f\n",
    "        for line in f.readlines():  # 逐行获取f的内容\n",
    "            # print(1)\n",
    "            title =  line.replace(',', ' ').replace('\\n', '').split(' ')\n",
    "            for s in title[1:]:  # 循环内容\n",
    "                dict_set.add(s)  # 数据存入集合\n",
    "    # print(dict_set)\n",
    "    print(f'{data_path}数据读取完毕')\n",
    "    return dict_set\n",
    "\n",
    "def create_dict(label_path, nolabel_path, data_path, dict_path):\n",
    "    '''\n",
    "    把数据生成字典\n",
    "    '''\n",
    "    print('正在读取数据……')\n",
    "    label_data = open_label(label_path)  # 读取数据\n",
    "    nolabel_data = open_label(nolabel_path)\n",
    "    data_data = open_data(data_path)\n",
    "    dict_set = label_data | nolabel_data | data_data  # 使用并集获得数据\n",
    "    print('正在生产字典……')\n",
    "    dict_list = []  # 新建一个空列表\n",
    "    i = 0\n",
    "    for s in dict_set:  # 循环集合\n",
    "        dict_list.append([s, i])  # 存入集合并新建一个单独对应的数值\n",
    "        i += 1\n",
    "    \n",
    "    dict_txt = dict(dict_list)  # 强制转换成 字典\n",
    "    end_dict = {\"<unk>\": i}  # 添加未知字符<unk>\n",
    "    dict_txt.update(end_dict)  # 空字符数据存入\n",
    "    # 把这些字典保存到本地中\n",
    "    with open(dict_path, 'w', encoding='utf-8') as f:\n",
    "        f.write(str(dict_txt))  # 把字典存入文本\n",
    "\n",
    "    print(\"数据字典生成完成！\")\n",
    "    print(f'字典长度为：{len(dict_txt.keys())}')\n",
    "    return dict_txt\n",
    "\n",
    "label_path = '语句分类/training_label.txt'  # 把地址进行赋值\n",
    "data_path = '语句分类/testing_data.txt'\n",
    "nolabel_path = '语句分类/training_nolabel.txt'\n",
    "dict_path = './dict.txt'\n",
    "\n",
    "word_dict = create_dict(label_path, nolabel_path, data_path, dict_path)  "
   ]
  },
  {
   "cell_type": "code",
   "execution_count": 5,
   "metadata": {
    "collapsed": false
   },
   "outputs": [
    {
     "name": "stdout",
     "output_type": "stream",
     "text": [
      "236001\n",
      "245075\n"
     ]
    }
   ],
   "source": [
    "print(word_dict['deux'])  # 选择查看\n",
    "print(word_dict['<unk>'])  # 选择查看"
   ]
  },
  {
   "cell_type": "code",
   "execution_count": 6,
   "metadata": {
    "collapsed": false
   },
   "outputs": [
    {
     "name": "stdout",
     "output_type": "stream",
     "text": [
      "数据列表生成完成！\n",
      "训练集数据160000条\n",
      "验证集数据40000条\n"
     ]
    }
   ],
   "source": [
    "# 创建数据集和数据字典\n",
    "with open('语句分类/training_label.txt', 'r', encoding='utf-8') as f_data:   # 读取文件\n",
    "    data_list = []   # 新建列表\n",
    "    for line in f_data.readlines():  # 逐行读取\n",
    "        # print(line)\n",
    "        title = line.split('+++$+++')[-1].replace('\\n', '').split(' ')  # 获取文本数据列表\n",
    "        l = line.split()[0]  # 获取标签 \n",
    "        labs = \"\"\n",
    "        for s in title[1:]:  # 循环得到数据\n",
    "            lab = str(word_dict[s])  # 获取数据对应标签\n",
    "            labs = labs + lab + ','  # 逐个添加数据并加上,\n",
    "        labs = labs[:-1]  # 去掉最后一个,\n",
    "        labs = labs + '\\t' + l + '\\n'  # 获得文本数据加上tab加上标签加上换行\n",
    "        data_list.append(labs)  # 添加进数据\n",
    "    random.shuffle(data_list)  # 打乱数据\n",
    "    val_len = int(len(data_list)*0.8)  # 按照8:2进行切割\n",
    "    val_data = data_list[val_len:]  # 后面20%\n",
    "    train_data =  data_list[:val_len]  # 前面80%\n",
    "    with open('./val.txt', 'w', encoding='utf-8') as f_val:\n",
    "        f_val.write(str(val_data))  # 写入数据\n",
    "    with open('./train.txt', 'w', encoding='utf-8') as f_train:\n",
    "        f_train.write(str(train_data))\n",
    "\n",
    "print(\"数据列表生成完成！\")\n",
    "print(f'训练集数据{len(train_data)}条')\n",
    "print(f'验证集数据{len(val_data)}条')"
   ]
  },
  {
   "cell_type": "code",
   "execution_count": 7,
   "metadata": {
    "collapsed": false
   },
   "outputs": [
    {
     "name": "stdout",
     "output_type": "stream",
     "text": [
      "245077\n"
     ]
    }
   ],
   "source": [
    "vocab_size = len(word_dict) + 1  # 字典长度加一 备用\n",
    "print(vocab_size)\n",
    "seq_len = 35  # 数据集长度（需要扩充的长度）\n",
    "batch_size = 32  # 批处理大小\n",
    "epochs = 2  # 训练轮数\n",
    "learning_rate=0.001  # 学习率\n",
    "pad_id = word_dict['<unk>']  # 空的填充内容值\n",
    "\n",
    "# 生成句子列表\n",
    "def ids_to_str(ids):\n",
    "    # print(ids)\n",
    "    words = []\n",
    "    for k in ids:  # 循环列表\n",
    "        w = list(word_dict)[eval(k)]  # 获取对应索引的值 \n",
    "        words.append(w if isinstance(w, str) else w.decode('ASCII'))  # 写入数据\n",
    "    return \" \".join(words)  # 返回拼接的数据"
   ]
  },
  {
   "cell_type": "code",
   "execution_count": 8,
   "metadata": {
    "collapsed": false
   },
   "outputs": [
    {
     "name": "stdout",
     "output_type": "stream",
     "text": [
      "46510,241795,45718,165045,17476,20682,134406,76634,1237,134406,179599,161072,104683,76634,90191,134576,45718,140325,37103,18909,24419\t0\n",
      "\n",
      "sentence list id is: ['46510', '241795', '45718', '165045', '17476', '20682', '134406', '76634', '1237', '134406', '179599', '161072', '104683', '76634', '90191', '134576', '45718', '140325', '37103', '18909', '24419']\n",
      "sentence label id is: 0\n",
      "--------------------------\n",
      "sentence list is:  think about the cog ' s and their families and friends who lost their lives in the air france crash .\n",
      "sentence label is:  0\n"
     ]
    }
   ],
   "source": [
    "for i in  train_data:  # 循环数据\n",
    "    # i = i\n",
    "    print(i)  # 输出原始数据\n",
    "    sent = i[:-3].split(',')  # 数据处理\n",
    "    label = int(i[-2])  # 获取标签\n",
    "    print('sentence list id is:', sent)\n",
    "    print('sentence label id is:', label)\n",
    "    print('--------------------------')\n",
    "    print('sentence list is: ', ids_to_str(sent))\n",
    "    print('sentence label is: ', label)\n",
    "    break"
   ]
  },
  {
   "cell_type": "code",
   "execution_count": 9,
   "metadata": {
    "collapsed": false
   },
   "outputs": [
    {
     "name": "stdout",
     "output_type": "stream",
     "text": [
      "(160000, 35)\n",
      "(160000, 1)\n",
      "(40000, 35)\n",
      "(40000, 1)\n"
     ]
    }
   ],
   "source": [
    "# 读取数据扩充并查看\n",
    "def create_padded_dataset(dataset):\n",
    "    padded_sents = []\n",
    "    labels = []\n",
    "    for batch_id, data in enumerate(dataset):  # 循环得到数据\n",
    "        data = data.replace('\\n', '').replace('\\t', ',').split(',')  # 对数据做处理得到列表\n",
    "        # print(data)\n",
    "        sent, label = data[:-2], data[-1]  # 返回数字化文本及标签\n",
    "        padded_sent = np.concatenate([sent[:seq_len], [pad_id] * (seq_len - len(sent))]).astype('int64')  # 数字化文本扩充\n",
    "            \n",
    "        # print(padded_sent)\n",
    "        padded_sents.append(padded_sent)  # 添加到数字化文本列表\n",
    "        labels.append(label)  # 添加到标签列表\n",
    "    # print(padded_sents)\n",
    "    return np.array(padded_sents), np.array(labels).astype('int64').reshape(len(labels),1)  # 返回数据\n",
    "\n",
    "# 对train、val数据进行实例化\n",
    "train_sents, train_labels = create_padded_dataset(train_data)\n",
    "val_sents, val_labels = create_padded_dataset(val_data)\n",
    "# 查看数据大小\n",
    "print(train_sents.shape)\n",
    "print(train_labels.shape)\n",
    "print(val_sents.shape)\n",
    "print(val_labels.shape)"
   ]
  },
  {
   "cell_type": "code",
   "execution_count": 10,
   "metadata": {
    "collapsed": false
   },
   "outputs": [
    {
     "name": "stdout",
     "output_type": "stream",
     "text": [
      "[ 46510 241795  45718 165045  17476  20682 134406  76634   1237 134406\n",
      " 179599 161072 104683  76634  90191 134576  45718 140325  37103  18909\n",
      " 245075 245075 245075 245075 245075 245075 245075 245075 245075 245075\n",
      " 245075 245075 245075 245075 245075]\n"
     ]
    }
   ],
   "source": [
    "for i in train_sents:  #  查看train数据\n",
    "    print(i)\n",
    "    break"
   ]
  },
  {
   "cell_type": "code",
   "execution_count": 11,
   "metadata": {
    "collapsed": false
   },
   "outputs": [],
   "source": [
    "# 继承paddle.io.Dataset对数据进行处理\n",
    "class IMDBDataset(paddle.io.Dataset):\n",
    "    '''\n",
    "    继承paddle.io.Dataset类进行封装数据\n",
    "    '''\n",
    "    def __init__(self, sents, labels):\n",
    "        # 数据读取\n",
    "        self.sents = sents\n",
    "        self.labels = labels\n",
    "    \n",
    "    def __getitem__(self, index):\n",
    "        # 数据处理\n",
    "        data = self.sents[index]\n",
    "        label = self.labels[index]\n",
    "\n",
    "        return data, label\n",
    "\n",
    "    def __len__(self):\n",
    "        # 返回大小数据\n",
    "        return len(self.sents)\n",
    "\n",
    "# 数据实例化 \n",
    "train_dataset = IMDBDataset(train_sents, train_labels)\n",
    "val_dataset = IMDBDataset(val_sents, val_labels)\n",
    "\n",
    "# 封装成生成器\n",
    "train_loader = paddle.io.DataLoader(train_dataset, return_list=True,\n",
    "                                    shuffle=True, batch_size=128, drop_last=True)\n",
    "val_loader = paddle.io.DataLoader(val_dataset, return_list=True,\n",
    "                                    shuffle=True, batch_size=32, drop_last=True)"
   ]
  },
  {
   "cell_type": "code",
   "execution_count": 12,
   "metadata": {
    "collapsed": false
   },
   "outputs": [
    {
     "name": "stdout",
     "output_type": "stream",
     "text": [
      "(array([ 46510, 241795,  45718, 165045,  17476,  20682, 134406,  76634,\n",
      "         1237, 134406, 179599, 161072, 104683,  76634,  90191, 134576,\n",
      "        45718, 140325,  37103,  18909, 245075, 245075, 245075, 245075,\n",
      "       245075, 245075, 245075, 245075, 245075, 245075, 245075, 245075,\n",
      "       245075, 245075, 245075]), array([0]))\n"
     ]
    }
   ],
   "source": [
    "for i in train_dataset:  # 查看封装前的数据\n",
    "    print(i)\n",
    "    break"
   ]
  },
  {
   "cell_type": "code",
   "execution_count": 13,
   "metadata": {
    "collapsed": false
   },
   "outputs": [
    {
     "name": "stderr",
     "output_type": "stream",
     "text": [
      "/opt/conda/envs/python35-paddle120-env/lib/python3.7/site-packages/paddle/fluid/dataloader/dataloader_iter.py:89: DeprecationWarning: `np.bool` is a deprecated alias for the builtin `bool`. To silence this warning, use `bool` by itself. Doing this will not modify any behavior and is safe. If you specifically wanted the numpy scalar type, use `np.bool_` here.\n",
      "Deprecated in NumPy 1.20; for more details and guidance: https://numpy.org/devdocs/release/1.20.0-notes.html#deprecations\n",
      "  if isinstance(slot[0], (np.ndarray, np.bool, numbers.Number)):\n"
     ]
    },
    {
     "name": "stdout",
     "output_type": "stream",
     "text": [
      "[Tensor(shape=[128, 35], dtype=int64, place=CUDAPinnedPlace, stop_gradient=True,\n",
      "       [[68310 , 144767, 243501, ..., 245075, 245075, 245075],\n",
      "        [46288 , 99282 , 14220 , ..., 245075, 245075, 245075],\n",
      "        [226234, 214230, 243501, ..., 245075, 245075, 245075],\n",
      "        ...,\n",
      "        [31345 , 214230, 65601 , ..., 245075, 245075, 245075],\n",
      "        [124842, 212048, 97581 , ..., 245075, 245075, 245075],\n",
      "        [107568, 81964 , 245075, ..., 245075, 245075, 245075]]), Tensor(shape=[128, 1], dtype=int64, place=CUDAPinnedPlace, stop_gradient=True,\n",
      "       [[1],\n",
      "        [0],\n",
      "        [1],\n",
      "        [0],\n",
      "        [1],\n",
      "        [1],\n",
      "        [1],\n",
      "        [1],\n",
      "        [1],\n",
      "        [0],\n",
      "        [0],\n",
      "        [0],\n",
      "        [1],\n",
      "        [1],\n",
      "        [0],\n",
      "        [1],\n",
      "        [1],\n",
      "        [1],\n",
      "        [1],\n",
      "        [1],\n",
      "        [0],\n",
      "        [0],\n",
      "        [1],\n",
      "        [0],\n",
      "        [1],\n",
      "        [1],\n",
      "        [0],\n",
      "        [1],\n",
      "        [1],\n",
      "        [1],\n",
      "        [1],\n",
      "        [0],\n",
      "        [0],\n",
      "        [1],\n",
      "        [0],\n",
      "        [1],\n",
      "        [1],\n",
      "        [1],\n",
      "        [0],\n",
      "        [0],\n",
      "        [0],\n",
      "        [1],\n",
      "        [0],\n",
      "        [0],\n",
      "        [0],\n",
      "        [1],\n",
      "        [0],\n",
      "        [1],\n",
      "        [0],\n",
      "        [1],\n",
      "        [0],\n",
      "        [1],\n",
      "        [0],\n",
      "        [0],\n",
      "        [1],\n",
      "        [1],\n",
      "        [1],\n",
      "        [0],\n",
      "        [0],\n",
      "        [0],\n",
      "        [1],\n",
      "        [0],\n",
      "        [0],\n",
      "        [0],\n",
      "        [1],\n",
      "        [1],\n",
      "        [1],\n",
      "        [0],\n",
      "        [1],\n",
      "        [0],\n",
      "        [1],\n",
      "        [1],\n",
      "        [1],\n",
      "        [0],\n",
      "        [0],\n",
      "        [1],\n",
      "        [0],\n",
      "        [0],\n",
      "        [0],\n",
      "        [1],\n",
      "        [0],\n",
      "        [1],\n",
      "        [1],\n",
      "        [0],\n",
      "        [0],\n",
      "        [1],\n",
      "        [0],\n",
      "        [1],\n",
      "        [0],\n",
      "        [1],\n",
      "        [1],\n",
      "        [1],\n",
      "        [1],\n",
      "        [1],\n",
      "        [0],\n",
      "        [1],\n",
      "        [1],\n",
      "        [1],\n",
      "        [1],\n",
      "        [1],\n",
      "        [1],\n",
      "        [0],\n",
      "        [0],\n",
      "        [1],\n",
      "        [0],\n",
      "        [0],\n",
      "        [0],\n",
      "        [0],\n",
      "        [0],\n",
      "        [0],\n",
      "        [0],\n",
      "        [1],\n",
      "        [1],\n",
      "        [1],\n",
      "        [1],\n",
      "        [1],\n",
      "        [0],\n",
      "        [1],\n",
      "        [0],\n",
      "        [1],\n",
      "        [0],\n",
      "        [0],\n",
      "        [0],\n",
      "        [1],\n",
      "        [0],\n",
      "        [0],\n",
      "        [0],\n",
      "        [0]])]\n"
     ]
    }
   ],
   "source": [
    "for i in train_loader :  # 查看封装后的数据\n",
    "    print(i)\n",
    "    break"
   ]
  },
  {
   "cell_type": "code",
   "execution_count": 14,
   "metadata": {
    "collapsed": false
   },
   "outputs": [],
   "source": [
    "class MyRNN(paddle.nn.Layer):\n",
    "    def __init__(self):\n",
    "        super(MyRNN, self).__init__()\n",
    "        self.embedding = nn.Embedding(vocab_size, 256)  # 嵌入层用于自动构造一个二维embedding矩阵\n",
    "        self.rnn = nn.SimpleRNN(256, 256, num_layers=2, direction='forward',dropout=0.5)  # 使用简易的RNN模型\n",
    "        self.linear = nn.Linear(in_features=256*2, out_features=2)  # 分类器\n",
    "        self.dropout = nn.Dropout(0.5)  # 正则化\n",
    "    \n",
    "    def forward(self, inputs):\n",
    "        emb = self.dropout(self.embedding(inputs))\n",
    "        #output形状大小为[batch_size,seq_len,num_directions * hidden_size]\n",
    "        #hidden形状大小为[num_layers * num_directions, batch_size, hidden_size]\n",
    "        #把前向的hidden与后向的hidden合并在一起\n",
    "        output, hidden = self.rnn(emb)\n",
    "        hidden = paddle.concat((hidden[-2,:,:], hidden[-1,:,:]), axis = 1)\n",
    "        #hidden形状大小为[batch_size, hidden_size * num_directions]\n",
    "        hidden = self.dropout(hidden)\n",
    "        return self.linear(hidden) "
   ]
  },
  {
   "cell_type": "code",
   "execution_count": 15,
   "metadata": {
    "collapsed": false
   },
   "outputs": [],
   "source": [
    "# 可视化定义\n",
    "def draw_process(title,color,iters,data,label):\n",
    "    plt.title(title, fontsize=24)  # 标题\n",
    "    plt.xlabel(\"iter\", fontsize=20)  # x轴\n",
    "    plt.ylabel(label, fontsize=20)  # y轴\n",
    "    plt.plot(iters, data,color=color,label=label)   # 画图\n",
    "    plt.legend()\n",
    "    plt.grid()\n",
    "    plt.show()"
   ]
  },
  {
   "cell_type": "code",
   "execution_count": 16,
   "metadata": {
    "collapsed": false
   },
   "outputs": [
    {
     "name": "stderr",
     "output_type": "stream",
     "text": [
      "W0609 16:42:58.710011   242 device_context.cc:362] Please NOTE: device: 0, GPU Compute Capability: 7.0, Driver API Version: 12.0, Runtime API Version: 10.1\n",
      "W0609 16:42:58.715515   242 device_context.cc:372] device: 0, cuDNN Version: 7.6.\n"
     ]
    },
    {
     "name": "stdout",
     "output_type": "stream",
     "text": [
      "epoch: 0, batch_id: 0, loss is: [0.6817595]\n",
      "epoch: 0, batch_id: 500, loss is: [0.6942775]\n",
      "epoch: 0, batch_id: 1000, loss is: [0.6956935]\n",
      "[validation] accuracy: 0.4978249967098236, loss: 0.6935177445411682\n",
      "epoch: 1, batch_id: 0, loss is: [0.69561636]\n",
      "epoch: 1, batch_id: 500, loss is: [0.6925569]\n",
      "epoch: 1, batch_id: 1000, loss is: [0.70219636]\n",
      "[validation] accuracy: 0.5461500287055969, loss: 0.6882537603378296\n",
      "epoch: 2, batch_id: 0, loss is: [0.6846287]\n",
      "epoch: 2, batch_id: 500, loss is: [0.69569755]\n",
      "epoch: 2, batch_id: 1000, loss is: [0.69609284]\n",
      "[validation] accuracy: 0.5250499844551086, loss: 0.6963083744049072\n",
      "epoch: 3, batch_id: 0, loss is: [0.6881584]\n",
      "epoch: 3, batch_id: 500, loss is: [0.73849404]\n",
      "epoch: 3, batch_id: 1000, loss is: [0.6810992]\n",
      "[validation] accuracy: 0.5385749936103821, loss: 0.6894043684005737\n",
      "epoch: 4, batch_id: 0, loss is: [0.6904796]\n",
      "epoch: 4, batch_id: 500, loss is: [0.6980019]\n",
      "epoch: 4, batch_id: 1000, loss is: [0.68666315]\n",
      "[validation] accuracy: 0.5303000211715698, loss: 0.7018308639526367\n",
      "epoch: 5, batch_id: 0, loss is: [0.6754124]\n",
      "epoch: 5, batch_id: 500, loss is: [0.7147242]\n",
      "epoch: 5, batch_id: 1000, loss is: [0.69279426]\n",
      "[validation] accuracy: 0.5165500044822693, loss: 0.692551851272583\n",
      "epoch: 6, batch_id: 0, loss is: [0.70850104]\n",
      "epoch: 6, batch_id: 500, loss is: [0.7093565]\n",
      "epoch: 6, batch_id: 1000, loss is: [0.6889541]\n",
      "[validation] accuracy: 0.5013999938964844, loss: 0.7130968570709229\n",
      "epoch: 7, batch_id: 0, loss is: [0.72614473]\n",
      "epoch: 7, batch_id: 500, loss is: [0.71485114]\n",
      "epoch: 7, batch_id: 1000, loss is: [0.7137993]\n",
      "[validation] accuracy: 0.5182750225067139, loss: 0.7028673887252808\n",
      "epoch: 8, batch_id: 0, loss is: [0.71183634]\n",
      "epoch: 8, batch_id: 500, loss is: [0.68857276]\n",
      "epoch: 8, batch_id: 1000, loss is: [0.7290311]\n",
      "[validation] accuracy: 0.4981499910354614, loss: 0.69513338804245\n",
      "epoch: 9, batch_id: 0, loss is: [0.6976776]\n",
      "epoch: 9, batch_id: 500, loss is: [0.697916]\n",
      "epoch: 9, batch_id: 1000, loss is: [0.6665871]\n",
      "[validation] accuracy: 0.49592500925064087, loss: 0.7158163785934448\n"
     ]
    },
    {
     "name": "stderr",
     "output_type": "stream",
     "text": [
      "/opt/conda/envs/python35-paddle120-env/lib/python3.7/site-packages/matplotlib/cbook/__init__.py:2349: DeprecationWarning: Using or importing the ABCs from 'collections' instead of from 'collections.abc' is deprecated, and in 3.8 it will stop working\n",
      "  if isinstance(obj, collections.Iterator):\n",
      "/opt/conda/envs/python35-paddle120-env/lib/python3.7/site-packages/matplotlib/cbook/__init__.py:2366: DeprecationWarning: Using or importing the ABCs from 'collections' instead of from 'collections.abc' is deprecated, and in 3.8 it will stop working\n",
      "  return list(data) if isinstance(data, collections.MappingView) else data\n"
     ]
    },
    {
     "data": {
      "image/png": "[encoded data removed]",
      "text/plain": [
       "<Figure size 640x480 with 1 Axes>"
      ]
     },
     "metadata": {},
     "output_type": "display_data"
    },
    {
     "data": {
      "image/png": "[encoded data removed]",
      "text/plain": [
       "<Figure size 640x480 with 1 Axes>"
      ]
     },
     "metadata": {},
     "output_type": "display_data"
    }
   ],
   "source": [
    "# 训练模型\n",
    "def train(model):\n",
    "    model.train()\n",
    "    opt = paddle.optimizer.Adam(learning_rate=learning_rate, parameters=model.parameters())  # 优化器学习率等\n",
    "    # 初始值设置\n",
    "    steps = 0\n",
    "    Iters, total_loss, total_acc = [], [], []\n",
    "\n",
    "    epochs = 2\n",
    "    for epoch in range(epochs):  # 训练循环\n",
    "        for batch_id, data in enumerate(train_loader):  # 数据循环\n",
    "            steps += 1\n",
    "            sent = data[0]  # 获取数据\n",
    "            label = data[1]  # 获取标签\n",
    "            \n",
    "            logits = model(sent)  # 输入数据\n",
    "            loss = paddle.nn.functional.cross_entropy(logits, label)  # loss获取\n",
    "            acc = paddle.metric.accuracy(logits, label)  # acc获取\n",
    "\n",
    "            if batch_id % 500 == 0:  # 每500次输出一次结果\n",
    "                Iters.append(steps)  # 保存训练轮数\n",
    "                total_loss.append(loss.numpy()[0])  # 保存loss\n",
    "                total_acc.append(acc.numpy()[0])  # 保存acc\n",
    "\n",
    "                print(\"epoch: {}, batch_id: {}, loss is: {}\".format(epoch, batch_id, loss.numpy()))  # 输出结果\n",
    "            \n",
    "            # 数据更新\n",
    "            loss.backward()  \n",
    "            opt.step()  \n",
    "            opt.clear_grad()  \n",
    "\n",
    "        # 每一个epochs进行一次评估\n",
    "        model.eval()\n",
    "        accuracies = []\n",
    "        losses = []\n",
    "        \n",
    "        for batch_id, data in enumerate(val_loader):  # 数据循环读取\n",
    "            \n",
    "            sent = data[0]  # 训练内容读取\n",
    "            label = data[1]  # 标签读取\n",
    "\n",
    "            logits = model(sent)  # 训练数据\n",
    "            loss = paddle.nn.functional.cross_entropy(logits, label)  # loss获取\n",
    "            acc = paddle.metric.accuracy(logits, label)  # acc获取\n",
    "            \n",
    "            accuracies.append(acc.numpy())  # 添加数据\n",
    "            losses.append(loss.numpy())  \n",
    "        \n",
    "        avg_acc, avg_loss = np.mean(accuracies), np.mean(losses)  # 获取loss、acc平均值\n",
    "        print(\"[validation] accuracy: {}, loss: {}\".format(avg_acc, avg_loss))  # 输出值\n",
    "        \n",
    "        model.train()\n",
    "    \n",
    "        paddle.save(model.state_dict(),str(epoch)+\"_model_final.pdparams\")  # 保存训练文件\n",
    "    \n",
    "    draw_process(\"trainning loss\",\"red\",Iters,total_loss,\"trainning loss\")  # 画处loss图\n",
    "    draw_process(\"trainning acc\",\"green\",Iters,total_acc,\"trainning acc\")  # 画出caa图\n",
    "        \n",
    "model = MyRNN()  # 模型实例化\n",
    "train(model)  # 开始训练"
   ]
  },
  {
   "cell_type": "code",
   "execution_count": 17,
   "metadata": {
    "collapsed": false
   },
   "outputs": [
    {
     "name": "stdout",
     "output_type": "stream",
     "text": [
      "[validation] accuracy: 0.5461500287055969, loss: 0.6882537007331848\n"
     ]
    }
   ],
   "source": [
    "'''\n",
    "模型评估\n",
    "'''\n",
    "model_state_dict = paddle.load('1_model_final.pdparams')  # 导入模型\n",
    "model = MyRNN()  # 网络实例化\n",
    "model.set_state_dict(model_state_dict) \n",
    "model.eval()\n",
    "accuracies = []\n",
    "losses = []\n",
    "\n",
    "for batch_id, data in enumerate(val_loader):  # 循环val数据\n",
    "    \n",
    "    sent = data[0]  # 获得数据\n",
    "    label = data[1]  # 获得标签\n",
    "\n",
    "    logits = model(sent)  # 进行预测\n",
    "    loss = paddle.nn.functional.cross_entropy(logits, label)  # 获得loss\n",
    "    acc = paddle.metric.accuracy(logits, label)  # 获得acc\n",
    "    \n",
    "    accuracies.append(acc.numpy())  # 保存loss\n",
    "    losses.append(loss.numpy())  # 保存acc\n",
    "\n",
    "avg_acc, avg_loss = np.mean(accuracies), np.mean(losses)  # 获取loss和acc均值\n",
    "print(\"[validation] accuracy: {}, loss: {}\".format(avg_acc, avg_loss))"
   ]
  }
 ],
 "metadata": {
  "kernelspec": {
   "display_name": "Python 3",
   "language": "python",
   "name": "py35-paddle1.2.0"
  },
  "language_info": {
   "codemirror_mode": {
    "name": "ipython",
    "version": 3
   },
   "file_extension": ".py",
   "mimetype": "text/x-python",
   "name": "python",
   "nbconvert_exporter": "python",
   "pygments_lexer": "ipython3",
   "version": "3.7.4"
  }
 },
 "nbformat": 4,
 "nbformat_minor": 1
}
